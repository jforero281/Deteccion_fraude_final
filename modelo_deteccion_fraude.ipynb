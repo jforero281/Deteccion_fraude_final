{
 "cells": [
  {
   "cell_type": "code",
   "execution_count": 4,
   "id": "0a316aed",
   "metadata": {},
   "outputs": [],
   "source": [
    "#Hacemos lectura del Dataset, el cual se llama: fraud_detection\n",
    "\n",
    "import pandas as pd\n",
    "import numpy as np\n",
    "import seaborn as sns\n",
    "import matplotlib.pyplot as plt\n",
    "import plotly.express as px\n",
    "import plotly.figure_factory as ff"
   ]
  },
  {
   "cell_type": "code",
   "execution_count": null,
   "id": "cb38b584",
   "metadata": {},
   "outputs": [],
   "source": [
    "fraude=pd.read_csv(\"C:/Users/jforero/OneDrive - Grupo Bancolombia/fraud_detection.csv\")\n",
    "fraude.head(10)"
   ]
  },
  {
   "cell_type": "markdown",
   "id": "1d92b409",
   "metadata": {},
   "source": [
    "Descripción de las variables:\n",
    "\n",
    "• step: Unidad de tiempo (1 step equivale a 1 hora).\n",
    "\n",
    "• type: Tipo de transacción en línea.\n",
    "\n",
    "• amount: Monto de la transacción.\n",
    "\n",
    "• nameOrig: Cliente que inicia la transacción.\n",
    "\n",
    "• oldbalanceOrg: Saldo del cliente antes de la transacción.\n",
    "\n",
    "• newbalanceOrig: Saldo del cliente después de la transacción.\n",
    "\n",
    "• nameDest: Destinatario de la transacción.\n",
    "\n",
    "• oldbalanceDest: Saldo inicial del destinatario antes de la transacción.\n",
    "\n",
    "• newbalanceDest: Nuevo saldo del destinatario después de la transacción.\n",
    "\n",
    "• isFraud: Indicador de transacción fraudulenta (marcado como 1 si es fraudulenta).\n",
    "\n",
    "• isFlaggedFraud: Indicador de transacción marcada por un sistema de alerta."
   ]
  },
  {
   "cell_type": "code",
   "execution_count": 6,
   "id": "715619fb",
   "metadata": {},
   "outputs": [
    {
     "name": "stdout",
     "output_type": "stream",
     "text": [
      "Forma de la base de fraude (filas, columnas): (6362620, 11)\n",
      "Total de registros: 6362620\n",
      "Total de columnas: 11\n"
     ]
    }
   ],
   "source": [
    "#Conteo de registros totales  columnas\n",
    "\n",
    "print(\"Forma de la base de fraude (filas, columnas):\", fraude.shape)\n",
    "print(f\"Total de registros: {fraude.shape[0]}\")\n",
    "print(f\"Total de columnas: {fraude.shape[1]}\")"
   ]
  },
  {
   "cell_type": "code",
   "execution_count": null,
   "id": "a4c563af",
   "metadata": {},
   "outputs": [],
   "source": [
    "#Seguir conocimiento la base de datos y su tipo de dato, esto es importante si más adelante necesitamos realizar algunas operaciones.\n",
    "fraude.info()"
   ]
  },
  {
   "cell_type": "code",
   "execution_count": null,
   "id": "ad9f90e2",
   "metadata": {},
   "outputs": [],
   "source": [
    "#Identificando el tipo de dato de cada una de las coloumnas, se puede evidenciar que la coloumna type puede ser clave para el ejercicio, pero es una variable tipo object, la vamos a convertir en tipo category y así lograr un mayo detalle en los analisis\n",
    "fraude['type'] = fraude['type'].astype('category')\n",
    "print(fraude['type'].dtypes)"
   ]
  },
  {
   "cell_type": "code",
   "execution_count": null,
   "id": "54b47c0d",
   "metadata": {},
   "outputs": [],
   "source": [
    "#volvemos a correr la información del dataframe\n",
    "fraude.info()"
   ]
  },
  {
   "cell_type": "code",
   "execution_count": null,
   "id": "2ef06ce6",
   "metadata": {},
   "outputs": [],
   "source": [
    "# Tasa de fraude por tipo de transacción\n",
    "fraude.groupby('type')['isFraud'].mean().sort_values(ascending=False)"
   ]
  },
  {
   "cell_type": "code",
   "execution_count": null,
   "id": "308dcc5d",
   "metadata": {},
   "outputs": [],
   "source": [
    "# Distribución de transacciones por tipo\n",
    "fraude['type'].value_counts()"
   ]
  },
  {
   "cell_type": "code",
   "execution_count": null,
   "id": "5da36fab",
   "metadata": {},
   "outputs": [],
   "source": [
    "#Concer las estadisticas a nivel general sin ninguna modificación del DataFrame.\n",
    "fraude.describe()"
   ]
  },
  {
   "cell_type": "code",
   "execution_count": null,
   "id": "c343fc4a",
   "metadata": {},
   "outputs": [],
   "source": [
    "#Conocer número total de registros duplicados (todas las columnas iguales), esto me ayudará a evidenciar si existen registros duplicados y me pueden hacer ruido en el modelo.\n",
    "\n",
    "duplicados = fraude.duplicated().sum()\n",
    "print(f\"Registros completamente duplicados: {duplicados}\")"
   ]
  },
  {
   "cell_type": "code",
   "execution_count": null,
   "id": "5fd14679",
   "metadata": {},
   "outputs": [],
   "source": [
    "#Ahora quiero identificar aquellos valores únicos por columna de algunos campos claves\n",
    "valores_unicos = fraude.nunique()\n",
    "print(\"Valores únicos por columna:\")\n",
    "print(valores_unicos)"
   ]
  },
  {
   "cell_type": "code",
   "execution_count": null,
   "id": "ad856c6d",
   "metadata": {},
   "outputs": [],
   "source": [
    "#Ahora, quiero identificar valores nulos por columna, y así identificar problemas de completitud\n",
    "\n",
    "nulos = fraude.isnull().sum()\n",
    "#nulos = nulos[nulos > 0]  # Mostrar solo columnas con al menos un nulo\n",
    "\n",
    "print(\"Valores nulos por columna:\")\n",
    "print(nulos)"
   ]
  },
  {
   "cell_type": "code",
   "execution_count": null,
   "id": "7735866a",
   "metadata": {},
   "outputs": [],
   "source": [
    "#La columna clave es isFraud quiero hacer un conteo por cada una de las clases\n",
    "\n",
    "print(fraude['isFraud'].value_counts())"
   ]
  },
  {
   "cell_type": "markdown",
   "id": "15a69a60",
   "metadata": {},
   "source": [
    "Con el resultado anterior, se puede evidenciar que se tiene un problema de desbalanceo en la muestra, debido a que la cantidad de fraudes es solo un 0.13% del total de registros. Para esto existen técnicas de desbalanceo."
   ]
  },
  {
   "cell_type": "markdown",
   "id": "4a7cd9a1",
   "metadata": {},
   "source": [
    "Procesamiento: A pesar que en el analisis inicial se hicieron algunas revisiones de posibles inconsistencias, en este capitulo se revisara la data a un mayor detalle, a continuación algunas validaciones"
   ]
  },
  {
   "cell_type": "code",
   "execution_count": null,
   "id": "03116b42",
   "metadata": {},
   "outputs": [],
   "source": [
    "#Revisare los nulos por cada una de las columnas de la base\n",
    "\n",
    "\n",
    "fraude.isnull().sum()"
   ]
  },
  {
   "cell_type": "markdown",
   "id": "f5103b94",
   "metadata": {},
   "source": [
    "Según la revisión anterior como no existen nulos no se hace necesario hacer una revisión de posibles opciones de nulos, las cuales podrían ser:\n",
    "\n",
    "1. Eliminar los nulos si es un porcentaje pequeño (inferior al 1%)\n",
    "2. Si tenemos muchos nulos tendríamos que buscar la manera de imputarlos, por ejemplo: a partir de media, mediana, entre otros"
   ]
  },
  {
   "cell_type": "code",
   "execution_count": null,
   "id": "583ccccd",
   "metadata": {},
   "outputs": [],
   "source": [
    "#Ahora vamos a revisar datos inconsistentes o fuera del rango\n",
    "\n",
    "#Validacion del monto de la transaccion negativo: \n",
    "\n",
    "fraude[fraude['amount'] < 0]"
   ]
  },
  {
   "cell_type": "code",
   "execution_count": null,
   "id": "5e523506",
   "metadata": {},
   "outputs": [],
   "source": [
    "#Verificación de valores negativos en saldos (que podrían ser inconsistentes)\n",
    "\n",
    "saldo_vars = ['oldbalanceOrg', 'newbalanceOrig', 'oldbalanceDest', 'newbalanceDest']\n",
    "fraude[saldo_vars].describe()"
   ]
  },
  {
   "cell_type": "code",
   "execution_count": null,
   "id": "c7571c1b",
   "metadata": {},
   "outputs": [],
   "source": [
    "#Filtar valores negativos\n",
    "\n",
    "fraude[fraude[saldo_vars].lt(0).any(axis=1)]"
   ]
  },
  {
   "cell_type": "code",
   "execution_count": 21,
   "id": "72a280b9",
   "metadata": {},
   "outputs": [],
   "source": [
    "#También es importante revisar la coherencia de los saldos\n",
    "\n",
    "# Inconsistencias en origen\n",
    "fraude['inconsistencia_origen'] = ((fraude['oldbalanceOrg'] - fraude['amount'] != fraude['newbalanceOrig']) & (fraude['isFraud'] == 1))\n",
    "\n",
    "# Inconsistencias en destino\n",
    "fraude['inconsistencia_destino'] = ((fraude['oldbalanceDest'] + fraude['amount'] != fraude['newbalanceDest']) & (fraude['isFraud'] == 1))"
   ]
  },
  {
   "cell_type": "code",
   "execution_count": null,
   "id": "9da19b2c",
   "metadata": {},
   "outputs": [],
   "source": [
    "# Validaciones de la variable namedest, si identificamos algún caso de cliente donde se repita la acción de fraude\n",
    "\n",
    "conteo_destinatario = fraude['nameDest'].value_counts().head(50).index\n",
    "fraude[fraude['nameDest'].isin(conteo_destinatario)].groupby(['nameDest', 'isFraud']).size().unstack(fill_value=0)"
   ]
  },
  {
   "cell_type": "code",
   "execution_count": 23,
   "id": "83c89c9e",
   "metadata": {},
   "outputs": [],
   "source": [
    "#También podríamos crear variables a partir de los salgos y así poder robustecer el dataframe para la realización del modelo\n",
    "\n",
    "fraude['saldo_cambiado_origen'] = fraude['oldbalanceOrg'] - fraude['newbalanceOrig']\n",
    "fraude['porcentaje_transferido'] = fraude['amount'] / (fraude['oldbalanceOrg'] + 1)  # +1 para evitar división por cero"
   ]
  },
  {
   "cell_type": "code",
   "execution_count": null,
   "id": "a0f8d167",
   "metadata": {},
   "outputs": [],
   "source": [
    "#Validamos de nuevo nuestra base\n",
    "\n",
    "fraude.head(10)"
   ]
  },
  {
   "cell_type": "code",
   "execution_count": null,
   "id": "87e2c78c",
   "metadata": {},
   "outputs": [],
   "source": [
    "# después de la revisión inicial, el analisis grafico (hisotograma, corrleaciones, etc) y la revisión detallada de las varaibles, se crea el nuevo dataframe solo con las collumnas que vamos a utilizar para el modelo final:\n",
    "\n",
    "variables_modelo = ['step','type',  'amount', 'oldbalanceOrg', 'newbalanceOrig', 'isFraud', 'oldbalanceDest', 'newbalanceDest', 'isFlaggedFraud', 'saldo_cambiado_origen', 'porcentaje_transferido']\n",
    "\n",
    "# Crear el nuevo dataframe\n",
    "fraude_final = fraude[variables_modelo].copy()\n",
    "\n",
    "# Mostrar primeras filas para validar\n",
    "fraude_final.head()"
   ]
  },
  {
   "cell_type": "code",
   "execution_count": null,
   "id": "eff432c9",
   "metadata": {},
   "outputs": [],
   "source": [
    "#Tenemos una variable que es categoría llamada type, la idea es convertirla a Dummy para correr el modelo\n",
    "\n",
    "fraude_final = pd.get_dummies(fraude_final, columns=['type'], drop_first=True)\n",
    "fraude_final.info()\n",
    "fraude_final.head()"
   ]
  },
  {
   "cell_type": "code",
   "execution_count": null,
   "id": "afba7b84",
   "metadata": {},
   "outputs": [],
   "source": [
    "#Antes de correr el modelo, es valido revisar como quedaron las variabels, nos ayudamos a partir de graficas:\n",
    "#Histograma de variables claves\n",
    "\n",
    "fraude_final[['amount', 'oldbalanceOrg', 'saldo_cambiado_origen']].hist(bins=50, figsize=(12, 6))\n",
    "plt.suptitle(\"Distribución de variables monetarias\")\n",
    "plt.show()"
   ]
  },
  {
   "cell_type": "code",
   "execution_count": null,
   "id": "3893068c",
   "metadata": {},
   "outputs": [],
   "source": [
    "numericas = fraude_final.select_dtypes(include='number')\n",
    "\n",
    "plt.figure(figsize=(12, 8))\n",
    "sns.heatmap(numericas.corr(), annot=True, fmt=\".2f\", cmap='coolwarm')\n",
    "plt.title(\"Matriz de correlación\")\n",
    "plt.show()"
   ]
  }
 ],
 "metadata": {
  "kernelspec": {
   "display_name": "Python 3",
   "language": "python",
   "name": "python3"
  },
  "language_info": {
   "codemirror_mode": {
    "name": "ipython",
    "version": 3
   },
   "file_extension": ".py",
   "mimetype": "text/x-python",
   "name": "python",
   "nbconvert_exporter": "python",
   "pygments_lexer": "ipython3",
   "version": "3.9.12"
  }
 },
 "nbformat": 4,
 "nbformat_minor": 5
}
